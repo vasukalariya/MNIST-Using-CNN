{
  "nbformat": 4,
  "nbformat_minor": 0,
  "metadata": {
    "colab": {
      "name": "Untitled0.ipynb",
      "version": "0.3.2",
      "provenance": []
    },
    "kernelspec": {
      "name": "python3",
      "display_name": "Python 3"
    },
    "accelerator": "GPU"
  },
  "cells": [
    {
      "metadata": {
        "id": "5vzCL98swTH_",
        "colab_type": "text"
      },
      "cell_type": "markdown",
      "source": [
        "## IMPORTING LIBRARIES AND DATASETS"
      ]
    },
    {
      "metadata": {
        "id": "WWz-nAYSwQrS",
        "colab_type": "text"
      },
      "cell_type": "markdown",
      "source": [
        ""
      ]
    },
    {
      "metadata": {
        "id": "EaYTinv6p3PR",
        "colab_type": "code",
        "colab": {
          "base_uri": "https://localhost:8080/",
          "height": 34
        },
        "outputId": "a6d65372-3028-463b-958b-4dfa0ce94f84"
      },
      "cell_type": "code",
      "source": [
        "import numpy as np # linear algebra\n",
        "import pandas as pd # data processing, CSV file I/O (e.g. pd.read_csv)\n",
        "import tensorflow as tf\n",
        "import matplotlib.pyplot as plt\n",
        "\n",
        "from keras.models import Sequential, load_model\n",
        "from keras.layers import Conv2D, MaxPooling2D, Dropout, Flatten, Dense, BatchNormalization"
      ],
      "execution_count": 1,
      "outputs": [
        {
          "output_type": "stream",
          "text": [
            "Using TensorFlow backend.\n"
          ],
          "name": "stderr"
        }
      ]
    },
    {
      "metadata": {
        "id": "px-E4c3aqEDg",
        "colab_type": "code",
        "colab": {}
      },
      "cell_type": "code",
      "source": [
        "mnist = tf.keras.datasets.mnist"
      ],
      "execution_count": 0,
      "outputs": []
    },
    {
      "metadata": {
        "id": "zMp_vm0NqaAp",
        "colab_type": "code",
        "colab": {}
      },
      "cell_type": "code",
      "source": [
        "(x_train,y_train),(x_test,y_test) = mnist.load_data()"
      ],
      "execution_count": 0,
      "outputs": []
    },
    {
      "metadata": {
        "id": "oOHBjux4qb7n",
        "colab_type": "code",
        "colab": {
          "base_uri": "https://localhost:8080/",
          "height": 50
        },
        "outputId": "5c74ec40-b525-48bc-e2a0-3654e7308045"
      },
      "cell_type": "code",
      "source": [
        "print(x_train.shape)\n",
        "print(x_test.shape)"
      ],
      "execution_count": 4,
      "outputs": [
        {
          "output_type": "stream",
          "text": [
            "(60000, 28, 28)\n",
            "(10000, 28, 28)\n"
          ],
          "name": "stdout"
        }
      ]
    },
    {
      "metadata": {
        "id": "iD0w2-nLwj2H",
        "colab_type": "text"
      },
      "cell_type": "markdown",
      "source": [
        "## RESHAPING AND NORMALIZING FOR CNN MODEL"
      ]
    },
    {
      "metadata": {
        "id": "5Q8zq73Lqo1y",
        "colab_type": "code",
        "colab": {}
      },
      "cell_type": "code",
      "source": [
        "x_train = np.array(x_train).reshape(60000,28,28,1)\n",
        "y_train = np.array(y_train)\n",
        "x_test = np.array(x_test).reshape(10000,28,28,1)"
      ],
      "execution_count": 0,
      "outputs": []
    },
    {
      "metadata": {
        "id": "q6-9abkSq77V",
        "colab_type": "code",
        "colab": {
          "base_uri": "https://localhost:8080/",
          "height": 50
        },
        "outputId": "098ede9c-9491-4a4a-af8b-21f0c6ce27d9"
      },
      "cell_type": "code",
      "source": [
        "x_train = x_train/255\n",
        "x_test = x_test/255\n",
        "print(x_train.shape)\n",
        "print(x_test.shape)"
      ],
      "execution_count": 6,
      "outputs": [
        {
          "output_type": "stream",
          "text": [
            "(60000, 28, 28, 1)\n",
            "(10000, 28, 28, 1)\n"
          ],
          "name": "stdout"
        }
      ]
    },
    {
      "metadata": {
        "id": "7iV8QOcWwsUd",
        "colab_type": "text"
      },
      "cell_type": "markdown",
      "source": [
        "## MODEL COMPILATION AND FITTING"
      ]
    },
    {
      "metadata": {
        "id": "nC2EIO8KrInD",
        "colab_type": "code",
        "colab": {
          "base_uri": "https://localhost:8080/",
          "height": 138
        },
        "outputId": "8f085e8c-c5aa-4c52-aa3b-8d58e8881adc"
      },
      "cell_type": "code",
      "source": [
        "model = Sequential()\n",
        "model.add(Conv2D(16, kernel_size=4, input_shape=[28,28,1], activation='relu'))\n",
        "model.add(BatchNormalization())\n",
        "model.add(Conv2D(32, kernel_size=4, activation='relu'))\n",
        "model.add(BatchNormalization())\n",
        "model.add(MaxPooling2D(2))\n",
        "model.add(Conv2D(64, kernel_size=4, activation='relu'))\n",
        "model.add(BatchNormalization())\n",
        "model.add(Dropout(0.1))\n",
        "model.add(Conv2D(128, kernel_size=4, activation='relu'))\n",
        "model.add(BatchNormalization())\n",
        "model.add(Flatten())\n",
        "model.add(Dense(3200, activation='tanh'))\n",
        "model.add(BatchNormalization())\n",
        "model.add(Dense(10, activation='softmax'))"
      ],
      "execution_count": 7,
      "outputs": [
        {
          "output_type": "stream",
          "text": [
            "WARNING:tensorflow:From /usr/local/lib/python3.6/dist-packages/tensorflow/python/framework/op_def_library.py:263: colocate_with (from tensorflow.python.framework.ops) is deprecated and will be removed in a future version.\n",
            "Instructions for updating:\n",
            "Colocations handled automatically by placer.\n",
            "WARNING:tensorflow:From /usr/local/lib/python3.6/dist-packages/keras/backend/tensorflow_backend.py:3445: calling dropout (from tensorflow.python.ops.nn_ops) with keep_prob is deprecated and will be removed in a future version.\n",
            "Instructions for updating:\n",
            "Please use `rate` instead of `keep_prob`. Rate should be set to `rate = 1 - keep_prob`.\n"
          ],
          "name": "stdout"
        }
      ]
    },
    {
      "metadata": {
        "id": "okLDa1q1rMJw",
        "colab_type": "code",
        "colab": {}
      },
      "cell_type": "code",
      "source": [
        "model.compile(optimizer='adam',loss='sparse_categorical_crossentropy',metrics=['accuracy'])"
      ],
      "execution_count": 0,
      "outputs": []
    },
    {
      "metadata": {
        "id": "mu1ce8Z7rWYU",
        "colab_type": "code",
        "colab": {
          "base_uri": "https://localhost:8080/",
          "height": 608
        },
        "outputId": "f8d6da0e-3b75-4735-9a05-c00ff123c0b5"
      },
      "cell_type": "code",
      "source": [
        "model.fit(x = x_train,y = y_train,epochs = 15)\n"
      ],
      "execution_count": 9,
      "outputs": [
        {
          "output_type": "stream",
          "text": [
            "WARNING:tensorflow:From /usr/local/lib/python3.6/dist-packages/tensorflow/python/ops/math_ops.py:3066: to_int32 (from tensorflow.python.ops.math_ops) is deprecated and will be removed in a future version.\n",
            "Instructions for updating:\n",
            "Use tf.cast instead.\n",
            "Epoch 1/15\n",
            "60000/60000 [==============================] - 73s 1ms/step - loss: 0.2550 - acc: 0.9558\n",
            "Epoch 2/15\n",
            "60000/60000 [==============================] - 67s 1ms/step - loss: 0.1009 - acc: 0.9763\n",
            "Epoch 3/15\n",
            "60000/60000 [==============================] - 66s 1ms/step - loss: 0.0817 - acc: 0.9798\n",
            "Epoch 4/15\n",
            "60000/60000 [==============================] - 54s 899us/step - loss: 0.0716 - acc: 0.9820\n",
            "Epoch 5/15\n",
            "60000/60000 [==============================] - 54s 898us/step - loss: 0.0650 - acc: 0.9836\n",
            "Epoch 6/15\n",
            "60000/60000 [==============================] - 55s 918us/step - loss: 0.0548 - acc: 0.9863\n",
            "Epoch 7/15\n",
            "60000/60000 [==============================] - 55s 914us/step - loss: 0.0504 - acc: 0.9869\n",
            "Epoch 8/15\n",
            "60000/60000 [==============================] - 57s 952us/step - loss: 0.0522 - acc: 0.9867\n",
            "Epoch 9/15\n",
            "60000/60000 [==============================] - 58s 958us/step - loss: 0.0458 - acc: 0.9886\n",
            "Epoch 10/15\n",
            "60000/60000 [==============================] - 57s 952us/step - loss: 0.0464 - acc: 0.9880\n",
            "Epoch 11/15\n",
            "60000/60000 [==============================] - 57s 952us/step - loss: 0.0389 - acc: 0.9898\n",
            "Epoch 12/15\n",
            "60000/60000 [==============================] - 52s 874us/step - loss: 0.0370 - acc: 0.9901\n",
            "Epoch 13/15\n",
            "60000/60000 [==============================] - 52s 864us/step - loss: 0.0343 - acc: 0.9908\n",
            "Epoch 14/15\n",
            "60000/60000 [==============================] - 53s 877us/step - loss: 0.0318 - acc: 0.9914\n",
            "Epoch 15/15\n",
            "60000/60000 [==============================] - 53s 876us/step - loss: 0.0315 - acc: 0.9914\n"
          ],
          "name": "stdout"
        },
        {
          "output_type": "execute_result",
          "data": {
            "text/plain": [
              "<keras.callbacks.History at 0x7f2110022fd0>"
            ]
          },
          "metadata": {
            "tags": []
          },
          "execution_count": 9
        }
      ]
    },
    {
      "metadata": {
        "id": "zSFvppjJwy3F",
        "colab_type": "text"
      },
      "cell_type": "markdown",
      "source": [
        "## EVALUATING TEST RESULTS"
      ]
    },
    {
      "metadata": {
        "id": "nY2UtaU4rmfk",
        "colab_type": "code",
        "colab": {
          "base_uri": "https://localhost:8080/",
          "height": 50
        },
        "outputId": "cd22c5de-e0a6-488f-f2c8-3ff8fca5b87f"
      },
      "cell_type": "code",
      "source": [
        "model.evaluate(x_test,y_test)"
      ],
      "execution_count": 10,
      "outputs": [
        {
          "output_type": "stream",
          "text": [
            "10000/10000 [==============================] - 2s 189us/step\n"
          ],
          "name": "stdout"
        },
        {
          "output_type": "execute_result",
          "data": {
            "text/plain": [
              "[0.027134959876839275, 0.9927]"
            ]
          },
          "metadata": {
            "tags": []
          },
          "execution_count": 10
        }
      ]
    }
  ]
}